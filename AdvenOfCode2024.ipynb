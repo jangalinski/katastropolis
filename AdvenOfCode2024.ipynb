{
 "cells": [
  {
   "metadata": {},
   "cell_type": "markdown",
   "source": "# Advent Of Code 2024"
  },
  {
   "metadata": {
    "ExecuteTime": {
     "end_time": "2024-12-06T06:06:01.858221Z",
     "start_time": "2024-12-06T06:06:01.642450Z"
    }
   },
   "cell_type": "code",
   "source": [
    "@file:DependsOn(\"com.toldoven.aoc:aoc-kotlin-notebook:1.1.2\")\n",
    "\n",
    "import com.toldoven.aoc.notebook.AocClient\n",
    "\n",
    "val aoc = AocClient.fromEnv()"
   ],
   "outputs": [],
   "execution_count": 53
  },
  {
   "metadata": {},
   "cell_type": "markdown",
   "source": ""
  },
  {
   "metadata": {
    "ExecuteTime": {
     "end_time": "2024-12-05T22:40:26.192604Z",
     "start_time": "2024-12-05T22:40:26.171397Z"
    }
   },
   "cell_type": "code",
   "source": [
    "val day01 = aoc.interactiveDay(2024,1)\n",
    "\n",
    "day01.viewPartOne()"
   ],
   "outputs": [
    {
     "data": {
      "text/html": [
       "<h2>--- Day 1: Historian Hysteria ---</h2>\n",
       "<p>The <em>Chief Historian</em> is always present for the big Christmas sleigh launch, but nobody has seen him in months! Last anyone heard, he was visiting locations that are historically significant to the North Pole; a group of Senior Historians has asked you to accompany them as they check the places they think he was most likely to visit.</p> \n",
       "<p>As each location is checked, they will mark it on their list with a <em class=\"star\">star</em>. They figure the Chief Historian <em>must</em> be in one of the first fifty places they'll look, so in order to save Christmas, you need to help them get <em class=\"star\">fifty stars</em> on their list before Santa takes off on December 25th.</p> \n",
       "<p>Collect stars by solving puzzles. Two puzzles will be made available on each day in the Advent calendar; the second puzzle is unlocked when you complete the first. Each puzzle grants <em class=\"star\">one star</em>. Good luck!</p> \n",
       "<p>You haven't even left yet and the group of Elvish Senior Historians has already hit a problem: their list of locations to check is currently <em>empty</em>. Eventually, someone decides that the best place to check first would be the Chief Historian's office.</p> \n",
       "<p>Upon pouring into the office, everyone confirms that the Chief Historian is indeed nowhere to be found. Instead, the Elves discover an assortment of notes and lists of historically significant locations! This seems to be the planning the Chief Historian was doing before he left. Perhaps these notes can be used to determine which locations to search?</p> \n",
       "<p>Throughout the Chief's office, the historically significant locations are listed not by name but by a unique number called the <em>location ID</em>. To make sure they don't miss anything, The Historians split into two groups, each searching the office and trying to create their own complete list of location IDs.</p> \n",
       "<p>There's just one problem: by holding the two lists up <em>side by side</em> (your puzzle input), it quickly becomes clear that the lists aren't very similar. Maybe you can help The Historians reconcile their lists?</p> \n",
       "<p>For example:</p> \n",
       "<pre><code>3   4\n",
       "4   3\n",
       "2   5\n",
       "1   3\n",
       "3   9\n",
       "3   3\n",
       "</code></pre> \n",
       "<p>Maybe the lists are only off by a small amount! To find out, pair up the numbers and measure how far apart they are. Pair up the <em>smallest number in the left list</em> with the <em>smallest number in the right list</em>, then the <em>second-smallest left number</em> with the <em>second-smallest right number</em>, and so on.</p> \n",
       "<p>Within each pair, figure out <em>how far apart</em> the two numbers are; you'll need to <em>add up all of those distances</em>. For example, if you pair up a <code>3</code> from the left list with a <code>7</code> from the right list, the distance apart is <code>4</code>; if you pair up a <code>9</code> with a <code>3</code>, the distance apart is <code>6</code>.</p> \n",
       "<p>In the example list above, the pairs and distances would be as follows:</p> \n",
       "<ul> \n",
       " <li>The smallest number in the left list is <code>1</code>, and the smallest number in the right list is <code>3</code>. The distance between them is <code><em>2</em></code>.</li> \n",
       " <li>The second-smallest number in the left list is <code>2</code>, and the second-smallest number in the right list is another <code>3</code>. The distance between them is <code><em>1</em></code>.</li> \n",
       " <li>The third-smallest number in both lists is <code>3</code>, so the distance between them is <code><em>0</em></code>.</li> \n",
       " <li>The next numbers to pair up are <code>3</code> and <code>4</code>, a distance of <code><em>1</em></code>.</li> \n",
       " <li>The fifth-smallest numbers in each list are <code>3</code> and <code>5</code>, a distance of <code><em>2</em></code>.</li> \n",
       " <li>Finally, the largest number in the left list is <code>4</code>, while the largest number in the right list is <code>9</code>; these are a distance <code><em>5</em></code> apart.</li> \n",
       "</ul> \n",
       "<p>To find the <em>total distance</em> between the left list and the right list, add up the distances between all of the pairs you found. In the example above, this is <code>2 + 1 + 0 + 1 + 2 + 5</code>, a total distance of <code><em>11</em></code>!</p> \n",
       "<p>Your actual left and right lists contain many location IDs. <em>What is the total distance between your lists?</em></p>"
      ]
     },
     "execution_count": 45,
     "metadata": {},
     "output_type": "execute_result"
    }
   ],
   "execution_count": 45
  },
  {
   "metadata": {
    "ExecuteTime": {
     "end_time": "2024-12-05T22:40:26.214686Z",
     "start_time": "2024-12-05T22:40:26.196239Z"
    }
   },
   "cell_type": "code",
   "source": [
    "val inputDay01 = \"\"\"\n",
    "3   4\n",
    "4   3\n",
    "2   5\n",
    "1   3\n",
    "3   9\n",
    "3   3\n",
    "\"\"\""
   ],
   "outputs": [],
   "execution_count": 46
  },
  {
   "metadata": {
    "ExecuteTime": {
     "end_time": "2024-12-05T22:40:26.236876Z",
     "start_time": "2024-12-05T22:40:26.217477Z"
    }
   },
   "cell_type": "code",
   "source": "val inputDay01 = day01.input()",
   "outputs": [],
   "execution_count": 47
  },
  {
   "metadata": {},
   "cell_type": "markdown",
   "source": "convert pairs of ints to list of columns"
  },
  {
   "metadata": {
    "ExecuteTime": {
     "end_time": "2024-12-05T22:40:26.295190Z",
     "start_time": "2024-12-05T22:40:26.239442Z"
    }
   },
   "cell_type": "code",
   "source": [
    "fun day01Read(input: String): Pair<List<Int>, List<Int>> {\n",
    "    return input.lines().map { it.trim()  }.filterNot { it.isEmpty()  }.map {\n",
    "      val (a,b) = it.split(\"   \").map { it.toInt()  }\n",
    "      a to b\n",
    "    }.unzip()\n",
    "}"
   ],
   "outputs": [],
   "execution_count": 48
  },
  {
   "metadata": {
    "ExecuteTime": {
     "end_time": "2024-12-05T22:40:26.363123Z",
     "start_time": "2024-12-05T22:40:26.297626Z"
    }
   },
   "cell_type": "code",
   "source": [
    "day01Read(inputDay01).let {\n",
    "  it.first.sorted().zip(it.second.sorted()).sumOf { (it.first-it.second).absoluteValue  }\n",
    "}\n"
   ],
   "outputs": [
    {
     "data": {
      "text/plain": [
       "2086478"
      ]
     },
     "execution_count": 49,
     "metadata": {},
     "output_type": "execute_result"
    }
   ],
   "execution_count": 49
  },
  {
   "metadata": {
    "ExecuteTime": {
     "end_time": "2024-12-05T22:40:27.854614Z",
     "start_time": "2024-12-05T22:40:26.368402Z"
    }
   },
   "cell_type": "code",
   "source": "day01.submitPartOne(2086478)",
   "outputs": [
    {
     "data": {
      "text/html": [
       "<p>The answer is correct!</p><p>Your answer: 2086478</p><small>You already completed this part.</small>"
      ]
     },
     "execution_count": 50,
     "metadata": {},
     "output_type": "execute_result"
    }
   ],
   "execution_count": 50
  },
  {
   "metadata": {
    "ExecuteTime": {
     "end_time": "2024-12-05T22:40:27.888714Z",
     "start_time": "2024-12-05T22:40:27.859696Z"
    }
   },
   "cell_type": "code",
   "source": "day01.viewPartTwo()",
   "outputs": [
    {
     "data": {
      "text/html": [
       "<h2 id=\"part2\">--- Part Two ---</h2>\n",
       "<p>Your analysis only confirmed what everyone feared: the two lists of location IDs are indeed very different.</p> \n",
       "<p>Or are they?</p> \n",
       "<p>The Historians can't agree on which group made the mistakes <em>or</em> how to read most of the Chief's handwriting, but in the commotion you notice an interesting detail: <span title=\"We were THIS close to summoning the Alot of Location IDs!\">a lot</span> of location IDs appear in both lists! Maybe the other numbers aren't location IDs at all but rather misinterpreted handwriting.</p> \n",
       "<p>This time, you'll need to figure out exactly how often each number from the left list appears in the right list. Calculate a total <em>similarity score</em> by adding up each number in the left list after multiplying it by the number of times that number appears in the right list.</p> \n",
       "<p>Here are the same example lists again:</p> \n",
       "<pre><code>3   4\n",
       "4   3\n",
       "2   5\n",
       "1   3\n",
       "3   9\n",
       "3   3\n",
       "</code></pre> \n",
       "<p>For these example lists, here is the process of finding the similarity score:</p> \n",
       "<ul> \n",
       " <li>The first number in the left list is <code>3</code>. It appears in the right list three times, so the similarity score increases by <code>3 * 3 = <em>9</em></code>.</li> \n",
       " <li>The second number in the left list is <code>4</code>. It appears in the right list once, so the similarity score increases by <code>4 * 1 = <em>4</em></code>.</li> \n",
       " <li>The third number in the left list is <code>2</code>. It does not appear in the right list, so the similarity score does not increase (<code>2 * 0 = 0</code>).</li> \n",
       " <li>The fourth number, <code>1</code>, also does not appear in the right list.</li> \n",
       " <li>The fifth number, <code>3</code>, appears in the right list three times; the similarity score increases by <code><em>9</em></code>.</li> \n",
       " <li>The last number, <code>3</code>, appears in the right list three times; the similarity score again increases by <code><em>9</em></code>.</li> \n",
       "</ul> \n",
       "<p>So, for these example lists, the similarity score at the end of this process is <code><em>31</em></code> (<code>9 + 4 + 0 + 0 + 9 + 9</code>).</p> \n",
       "<p>Once again consider your left and right lists. <em>What is their similarity score?</em></p>"
      ]
     },
     "execution_count": 51,
     "metadata": {},
     "output_type": "execute_result"
    }
   ],
   "execution_count": 51
  },
  {
   "metadata": {
    "ExecuteTime": {
     "end_time": "2024-12-05T22:40:28.352050Z",
     "start_time": "2024-12-05T22:40:27.892126Z"
    }
   },
   "cell_type": "code",
   "source": [
    "val (col1, col2) = day01Read(inputDay01)\n",
    "val count = col2.groupingBy { it  }.eachCount()\n",
    "\n",
    "val day01gold = col1.sumOf { count.getOrDefault(it,0) * it  }\n",
    "day01.submitPartTwo(day01gold)"
   ],
   "outputs": [
    {
     "data": {
      "text/html": [
       "<p>The answer is correct!</p><p>Your answer: 24941624</p><small>You already completed this part.</small>"
      ]
     },
     "execution_count": 52,
     "metadata": {},
     "output_type": "execute_result"
    }
   ],
   "execution_count": 52
  },
  {
   "metadata": {},
   "cell_type": "markdown",
   "source": "## Day 06"
  },
  {
   "metadata": {},
   "cell_type": "markdown",
   "source": ""
  }
 ],
 "metadata": {
  "kernelspec": {
   "display_name": "Kotlin",
   "language": "kotlin",
   "name": "kotlin"
  },
  "language_info": {
   "name": "kotlin",
   "version": "1.9.23",
   "mimetype": "text/x-kotlin",
   "file_extension": ".kt",
   "pygments_lexer": "kotlin",
   "codemirror_mode": "text/x-kotlin",
   "nbconvert_exporter": ""
  }
 },
 "nbformat": 4,
 "nbformat_minor": 0
}
